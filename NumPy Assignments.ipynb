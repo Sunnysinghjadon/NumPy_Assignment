{
 "cells": [
  {
   "cell_type": "code",
   "execution_count": 4,
   "id": "a5a5095d-be9f-4a95-8592-e3155cebfdb2",
   "metadata": {},
   "outputs": [],
   "source": [
    "import numpy as np\n",
    "\n",
    "list_ = [ '1' , '2' , '3' , '4' , '5']\n",
    "\n",
    "array_list = np.array(object = list_)"
   ]
  },
  {
   "cell_type": "code",
   "execution_count": 5,
   "id": "f602f62e-94e8-4028-9009-7646ac4f9b0d",
   "metadata": {},
   "outputs": [
    {
     "data": {
      "text/plain": [
       "array(['1', '2', '3', '4', '5'], dtype='<U1')"
      ]
     },
     "execution_count": 5,
     "metadata": {},
     "output_type": "execute_result"
    }
   ],
   "source": [
    "array_list"
   ]
  },
  {
   "cell_type": "markdown",
   "id": "98654df7-abb6-4c70-82c5-f321e6e4e4a3",
   "metadata": {},
   "source": [
    "# Q1. Is there any difference in the data type of variables list_ and array_list? If there is then write a code to print the data types of both the variables"
   ]
  },
  {
   "cell_type": "code",
   "execution_count": 8,
   "id": "7c744afe-f346-4684-870d-743325e36dfa",
   "metadata": {},
   "outputs": [
    {
     "name": "stdout",
     "output_type": "stream",
     "text": [
      "Data type of list_: <class 'list'>\n",
      "Data type of array_list: <class 'numpy.ndarray'>\n"
     ]
    }
   ],
   "source": [
    "list_ = ['1', '2', '3', '4', '5']\n",
    "array_list = np.array(object=list_)\n",
    "\n",
    "print(\"Data type of list_:\", type(list_))\n",
    "print(\"Data type of array_list:\", type(array_list))\n"
   ]
  },
  {
   "cell_type": "markdown",
   "id": "8c09204e-7aeb-4d76-ad5f-afa77b58cad3",
   "metadata": {},
   "source": [
    "# Q2. Write a code to print the data type of each and every element of both the variables list_ and arra_list."
   ]
  },
  {
   "cell_type": "code",
   "execution_count": 9,
   "id": "29bca907-d899-467e-a129-2da8b93cfbaa",
   "metadata": {},
   "outputs": [
    {
     "name": "stdout",
     "output_type": "stream",
     "text": [
      "Data type of each element in list_:\n",
      "<class 'str'>\n",
      "<class 'str'>\n",
      "<class 'str'>\n",
      "<class 'str'>\n",
      "<class 'str'>\n",
      "\n",
      "Data type of each element in array_list:\n",
      "<class 'numpy.str_'>\n",
      "<class 'numpy.str_'>\n",
      "<class 'numpy.str_'>\n",
      "<class 'numpy.str_'>\n",
      "<class 'numpy.str_'>\n"
     ]
    }
   ],
   "source": [
    "list_ = ['1', '2', '3', '4', '5']\n",
    "array_list = np.array(object=list_)\n",
    "\n",
    "# Print data type of each element in list_\n",
    "print(\"Data type of each element in list_:\")\n",
    "for i in list_:\n",
    "    print(type(i))\n",
    "\n",
    "# Print data type of each element in array_list\n",
    "print(\"\\nData type of each element in array_list:\")\n",
    "for j in array_list:\n",
    "    print(type(j))\n"
   ]
  },
  {
   "cell_type": "markdown",
   "id": "1f6897ab-bd96-4ab4-80b0-f914cc4796a4",
   "metadata": {},
   "source": [
    "# Q3. Considering the following changes in the variable, array_list:\n",
    "\n",
    "array_list = np.array(object = list_, dtype = int)\n",
    "\n",
    "# Will there be any difference in the data type of the elements present in both the variables, list_ and arra_list? If so then print the data types of each and every element present in both the variables, list_ and arra_list.\n",
    "\n"
   ]
  },
  {
   "cell_type": "code",
   "execution_count": 10,
   "id": "be960777-6977-45f0-8e59-05a5ab618648",
   "metadata": {},
   "outputs": [
    {
     "name": "stdout",
     "output_type": "stream",
     "text": [
      "Data type of each element in list_:\n",
      "<class 'str'>\n",
      "<class 'str'>\n",
      "<class 'str'>\n",
      "<class 'str'>\n",
      "<class 'str'>\n",
      "\n",
      "Data type of each element in array_list:\n",
      "<class 'numpy.int64'>\n",
      "<class 'numpy.int64'>\n",
      "<class 'numpy.int64'>\n",
      "<class 'numpy.int64'>\n",
      "<class 'numpy.int64'>\n"
     ]
    }
   ],
   "source": [
    "import numpy as np\n",
    "\n",
    "list_ = ['1', '2', '3', '4', '5']\n",
    "array_list = np.array(object=list_, dtype=int)\n",
    "\n",
    "# Print data type of each element in list_\n",
    "print(\"Data type of each element in list_:\")\n",
    "for i in list_:\n",
    "    print(type(i))\n",
    "\n",
    "# Print data type of each element in array_list\n",
    "print(\"\\nData type of each element in array_list:\")\n",
    "for j in array_list:\n",
    "    print(type(j))\n"
   ]
  },
  {
   "cell_type": "markdown",
   "id": "66d38dc3-25d0-44fb-89e4-a591f1bdf087",
   "metadata": {},
   "source": [
    "# new code "
   ]
  },
  {
   "cell_type": "code",
   "execution_count": 12,
   "id": "7b200461-26b2-4ebc-9469-dc6a0af09fb9",
   "metadata": {},
   "outputs": [],
   "source": [
    "# Consider the below code to answer further questions:\n",
    "\n",
    "import numpy as np\n",
    "\n",
    "num_list = [ [ 1 , 2 , 3 ] , [ 4 , 5 , 6 ] ]\n",
    "\n",
    "num_array = np.array(object = num_list)"
   ]
  },
  {
   "cell_type": "code",
   "execution_count": 13,
   "id": "e8d93977-142b-4be3-aded-badec3ca29f9",
   "metadata": {},
   "outputs": [
    {
     "data": {
      "text/plain": [
       "array([[1, 2, 3],\n",
       "       [4, 5, 6]])"
      ]
     },
     "execution_count": 13,
     "metadata": {},
     "output_type": "execute_result"
    }
   ],
   "source": [
    "num_array"
   ]
  },
  {
   "cell_type": "markdown",
   "id": "1cf1a775-06e3-4a86-bd37-d94191f8028f",
   "metadata": {},
   "source": [
    "# Q4. Write a code to find the following characteristics of variable, num_array:\n",
    "\n",
    "# (i) shape\n",
    "\n",
    "# (ii) size"
   ]
  },
  {
   "cell_type": "code",
   "execution_count": 14,
   "id": "79f2b0b2-c427-4b90-b350-763cf2f9ba09",
   "metadata": {},
   "outputs": [
    {
     "name": "stdout",
     "output_type": "stream",
     "text": [
      "Shape of num_array: (2, 3)\n",
      "Size of num_array: 6\n"
     ]
    }
   ],
   "source": [
    "import numpy as np\n",
    "\n",
    "num_list = [[1, 2, 3], [4, 5, 6]]\n",
    "num_array = np.array(object=num_list)\n",
    "\n",
    "# Shape of num_array\n",
    "shape = num_array.shape\n",
    "print(\"Shape of num_array:\", shape)\n",
    "\n",
    "# Size of num_array\n",
    "size = num_array.size\n",
    "print(\"Size of num_array:\", size)\n"
   ]
  },
  {
   "cell_type": "markdown",
   "id": "7b9323cf-255b-4d29-b2dd-0fc5ad822679",
   "metadata": {},
   "source": [
    "# Q5. Write a code to create numpy array of 3*3 matrix containing zeros only, using a numpy array creation function.\n",
    "\n",
    "# [Hint: The size of the array will be 9 and the shape will be (3,3).]"
   ]
  },
  {
   "cell_type": "code",
   "execution_count": 16,
   "id": "133583c9-1c56-47e0-9d1e-d7f76489d880",
   "metadata": {},
   "outputs": [
    {
     "name": "stdout",
     "output_type": "stream",
     "text": [
      "[[0. 0. 0.]\n",
      " [0. 0. 0.]\n",
      " [0. 0. 0.]]\n",
      "Shape of num_array: (3, 3)\n",
      "Size of num_array: 9\n"
     ]
    }
   ],
   "source": [
    "zeros_array = np.zeros((3, 3))\n",
    "\n",
    "print(zeros_array)\n",
    "\n",
    "# Shape of num_array\n",
    "shape = zeros_array.shape\n",
    "print(\"Shape of num_array:\", shape)\n",
    "\n",
    "# Size of num_array\n",
    "size = zeros_array.size\n",
    "print(\"Size of num_array:\", size)"
   ]
  },
  {
   "cell_type": "markdown",
   "id": "81a1dadf-4fa8-4738-9786-20a7deb4cf9e",
   "metadata": {},
   "source": [
    "# Q6. Create an identity matrix of shape (5,5) using numpy functions?\n",
    "\n",
    "# [Hint: An identity matrix is a matrix containing 1 diagonally and other elements will be 0.]"
   ]
  },
  {
   "cell_type": "code",
   "execution_count": 18,
   "id": "852839aa-9d11-443e-9fb1-d57fa1210209",
   "metadata": {},
   "outputs": [
    {
     "name": "stdout",
     "output_type": "stream",
     "text": [
      "[[1. 0. 0. 0. 0.]\n",
      " [0. 1. 0. 0. 0.]\n",
      " [0. 0. 1. 0. 0.]\n",
      " [0. 0. 0. 1. 0.]\n",
      " [0. 0. 0. 0. 1.]]\n"
     ]
    }
   ],
   "source": [
    "# Create a 5x5 identity matrix\n",
    "identity_matrix = np.eye(5)\n",
    "print(identity_matrix)"
   ]
  },
  {
   "cell_type": "code",
   "execution_count": null,
   "id": "a63d52d4-d661-4c4a-bf25-23bdfc8592fe",
   "metadata": {},
   "outputs": [],
   "source": [
    "# THE END"
   ]
  }
 ],
 "metadata": {
  "kernelspec": {
   "display_name": "Python 3 (ipykernel)",
   "language": "python",
   "name": "python3"
  },
  "language_info": {
   "codemirror_mode": {
    "name": "ipython",
    "version": 3
   },
   "file_extension": ".py",
   "mimetype": "text/x-python",
   "name": "python",
   "nbconvert_exporter": "python",
   "pygments_lexer": "ipython3",
   "version": "3.10.8"
  }
 },
 "nbformat": 4,
 "nbformat_minor": 5
}
